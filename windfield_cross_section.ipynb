{
 "cells": [
  {
   "cell_type": "code",
   "execution_count": 9,
   "metadata": {},
   "outputs": [
    {
     "data": {
      "application/vnd.jupyter.widget-view+json": {
       "model_id": "e86ab1b590fa4b4db0d7c93375fab099",
       "version_major": 2,
       "version_minor": 0
      },
      "text/plain": [
       "Widget(value='<iframe src=\"http://localhost:56598/index.html?ui=P_0x1fccbf57110_8&reconnect=auto\" class=\"pyvis…"
      ]
     },
     "metadata": {},
     "output_type": "display_data"
    }
   ],
   "source": [
    "import pyvista as pv\n",
    "import numpy as np\n",
    "\n",
    "# Read both meshes\n",
    "mesh_bp = pv.read(r\"C:\\Users\\KU5001153\\Downloads\\bp_50percent_75.vtk\")\n",
    "\n",
    "\n",
    "# Create slices\n",
    "slice_x_bp = mesh_bp.slice(normal='z', origin=(0, 0, 50))\n",
    "\n",
    "# Clip slices\n",
    "clipped_slice_bp = slice_x_bp.clip(normal=[0, 0, -1], origin=[0, 0, 0])\n",
    "\n",
    "\n",
    "# Combine velocity data\n",
    "combined_U = clipped_slice_bp.get_array('U')\n",
    "clipped_slice_bp['U'] = combined_U\n",
    "\n",
    "\n",
    "glyphs = clipped_slice_bp.glyph(\n",
    "   orient='U',              \n",
    "   scale='U',              \n",
    "   factor=0.2,             \n",
    "   geom=pv.Arrow()         \n",
    ")\n",
    "\n",
    "plotter = pv.Plotter()\n",
    "\n",
    "plotter.add_mesh(clipped_slice_bp, \n",
    "               opacity=1.0,\n",
    "               cmap='inferno',\n",
    "               clim=[0, 15],\n",
    "               show_scalar_bar=False,\n",
    "               )\n",
    "\n",
    "bar = plotter.add_scalar_bar(\n",
    "    title='Velocity Magnitude (m/s)\\n',\n",
    "    n_labels=6,  # Adjust number of labels\n",
    "    title_font_size=24,  # Adjust title font size\n",
    "    label_font_size=24,\n",
    "    position_x=0.2,  # Adjust horizontal position (0 to 1)\n",
    "    position_y=0.80,   # Adjust vertical position (0 to 1\n",
    "    font_family='arial',\n",
    ")\n",
    "\n",
    "bar.GetTitleTextProperty().SetLineSpacing(1.01)\n",
    "\n",
    "plotter.show_bounds(\n",
    "   show_xaxis=True,\n",
    "   xtitle=\" \",\n",
    "   show_yaxis=True,\n",
    "   ytitle=\" \",\n",
    "   show_zaxis=True,\n",
    "   ztitle=\" \",\n",
    "   show_zlabels=True,\n",
    "   show_xlabels=True,\n",
    "   show_ylabels=True,\n",
    "   location='outer',\n",
    ")\n",
    "\n",
    "plotter.window_size = [1200, 800]\n",
    "plotter.camera.zoom(1.1)\n",
    "plotter.show()\n"
   ]
  }
 ],
 "metadata": {
  "kernelspec": {
   "display_name": "rig",
   "language": "python",
   "name": "python3"
  },
  "language_info": {
   "codemirror_mode": {
    "name": "ipython",
    "version": 3
   },
   "file_extension": ".py",
   "mimetype": "text/x-python",
   "name": "python",
   "nbconvert_exporter": "python",
   "pygments_lexer": "ipython3",
   "version": "3.12.3"
  }
 },
 "nbformat": 4,
 "nbformat_minor": 2
}
