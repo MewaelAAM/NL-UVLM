{
 "cells": [
  {
   "cell_type": "code",
   "execution_count": 1,
   "metadata": {},
   "outputs": [
    {
     "ename": "FileNotFoundError",
     "evalue": "File (C:\\Users\\KU5001153\\Downloads\\bp_50percent_75.vtk) not found",
     "output_type": "error",
     "traceback": [
      "\u001b[1;31m---------------------------------------------------------------------------\u001b[0m",
      "\u001b[1;31mFileNotFoundError\u001b[0m                         Traceback (most recent call last)",
      "Cell \u001b[1;32mIn[1], line 5\u001b[0m\n\u001b[0;32m      2\u001b[0m \u001b[38;5;28;01mimport\u001b[39;00m \u001b[38;5;21;01mnumpy\u001b[39;00m \u001b[38;5;28;01mas\u001b[39;00m \u001b[38;5;21;01mnp\u001b[39;00m\n\u001b[0;32m      4\u001b[0m \u001b[38;5;66;03m# Read the data\u001b[39;00m\n\u001b[1;32m----> 5\u001b[0m mesh \u001b[38;5;241m=\u001b[39m \u001b[43mpv\u001b[49m\u001b[38;5;241;43m.\u001b[39;49m\u001b[43mread\u001b[49m\u001b[43m(\u001b[49m\u001b[38;5;124;43mr\u001b[39;49m\u001b[38;5;124;43m\"\u001b[39;49m\u001b[38;5;124;43mC:\u001b[39;49m\u001b[38;5;124;43m\\\u001b[39;49m\u001b[38;5;124;43mUsers\u001b[39;49m\u001b[38;5;124;43m\\\u001b[39;49m\u001b[38;5;124;43mKU5001153\u001b[39;49m\u001b[38;5;124;43m\\\u001b[39;49m\u001b[38;5;124;43mDownloads\u001b[39;49m\u001b[38;5;124;43m\\\u001b[39;49m\u001b[38;5;124;43mbp_50percent_75.vtk\u001b[39;49m\u001b[38;5;124;43m\"\u001b[39;49m\u001b[43m)\u001b[49m\n\u001b[0;32m      6\u001b[0m \u001b[38;5;66;03m# Get bounds\u001b[39;00m\n\u001b[0;32m      7\u001b[0m bounds \u001b[38;5;241m=\u001b[39m mesh\u001b[38;5;241m.\u001b[39mbounds\n",
      "File \u001b[1;32mc:\\Users\\Aero\\.conda\\envs\\MAV\\Lib\\site-packages\\pyvista\\core\\utilities\\fileio.py:175\u001b[0m, in \u001b[0;36mread\u001b[1;34m(filename, force_ext, file_format, progress_bar)\u001b[0m\n\u001b[0;32m    173\u001b[0m filename \u001b[38;5;241m=\u001b[39m Path(filename)\u001b[38;5;241m.\u001b[39mexpanduser()\u001b[38;5;241m.\u001b[39mresolve()\n\u001b[0;32m    174\u001b[0m \u001b[38;5;28;01mif\u001b[39;00m \u001b[38;5;129;01mnot\u001b[39;00m filename\u001b[38;5;241m.\u001b[39mis_file() \u001b[38;5;129;01mand\u001b[39;00m \u001b[38;5;129;01mnot\u001b[39;00m filename\u001b[38;5;241m.\u001b[39mis_dir():\n\u001b[1;32m--> 175\u001b[0m     \u001b[38;5;28;01mraise\u001b[39;00m \u001b[38;5;167;01mFileNotFoundError\u001b[39;00m(\u001b[38;5;124mf\u001b[39m\u001b[38;5;124m'\u001b[39m\u001b[38;5;124mFile (\u001b[39m\u001b[38;5;132;01m{\u001b[39;00mfilename\u001b[38;5;132;01m}\u001b[39;00m\u001b[38;5;124m) not found\u001b[39m\u001b[38;5;124m'\u001b[39m)\n\u001b[0;32m    177\u001b[0m \u001b[38;5;66;03m# Read file using meshio.read if file_format is present\u001b[39;00m\n\u001b[0;32m    178\u001b[0m \u001b[38;5;28;01mif\u001b[39;00m file_format:\n",
      "\u001b[1;31mFileNotFoundError\u001b[0m: File (C:\\Users\\KU5001153\\Downloads\\bp_50percent_75.vtk) not found"
     ]
    }
   ],
   "source": [
    "import pyvista as pv\n",
    "import numpy as np\n",
    "\n",
    "# Read the data\n",
    "mesh = pv.read(r\"C:\\Users\\KU5001153\\Downloads\\bp_50percent_75.vtk\")\n",
    "# Get bounds\n",
    "bounds = mesh.bounds\n",
    "z_min, z_max = bounds[4], bounds[5]\n",
    "\n",
    "# Create plotter with static background\n",
    "plotter = pv.Plotter(lighting='none')\n",
    "\n",
    "# Create slices\n",
    "z_positions = np.linspace(z_min, z_max, 50)\n",
    "for z_pos in z_positions:\n",
    "    slice_z = mesh.slice(normal='z', origin=(0, 0, z_pos))\n",
    "    if slice_z.n_points > 0:\n",
    "        plotter.add_mesh(slice_z, \n",
    "                        opacity=0.3,\n",
    "                        cmap='inferno',\n",
    "                        clim=[0, 15],\n",
    "                        scalars='U',\n",
    "                        label=None,\n",
    "                        lighting=False,\n",
    "                        show_edges=False,\n",
    "                        show_scalar_bar=False,\n",
    "                        interpolate_before_map=False)\n",
    "\n",
    "bar = plotter.add_scalar_bar(\n",
    "    title='Velocity Magnitude (m/s)\\n',\n",
    "    n_labels=6,  # Adjust number of labels\n",
    "    title_font_size=28,  # Adjust title font size\n",
    "    label_font_size=28,\n",
    "    position_x=0.2,  # Adjust horizontal position (0 to 1)\n",
    "    position_y=0.80,   # Adjust vertical position (0 to 1\n",
    "    font_family='arial',\n",
    ")\n",
    "\n",
    "plotter.show_bounds(\n",
    "   show_xaxis=True,\n",
    "   xtitle=\" \",\n",
    "   show_yaxis=True,\n",
    "   ytitle=\" \",\n",
    "   show_zaxis=True,\n",
    "   ztitle=\" \",\n",
    "   show_xlabels=False,\n",
    "   show_ylabels=False,\n",
    "   show_zlabels=False,\n",
    "   location='outer',\n",
    ")\n",
    "\n",
    "bar.GetTitleTextProperty().SetLineSpacing(1.01)\n",
    "# Increase window size\n",
    "plotter.window_size = [1200, 800]\n",
    "plotter.camera.zoom(1.1)\n",
    "plotter.show()"
   ]
  }
 ],
 "metadata": {
  "kernelspec": {
   "display_name": "MAV",
   "language": "python",
   "name": "python3"
  },
  "language_info": {
   "codemirror_mode": {
    "name": "ipython",
    "version": 3
   },
   "file_extension": ".py",
   "mimetype": "text/x-python",
   "name": "python",
   "nbconvert_exporter": "python",
   "pygments_lexer": "ipython3",
   "version": "3.12.0"
  }
 },
 "nbformat": 4,
 "nbformat_minor": 2
}
